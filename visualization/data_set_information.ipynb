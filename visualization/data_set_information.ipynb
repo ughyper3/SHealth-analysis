{
 "cells": [
  {
   "cell_type": "code",
   "execution_count": 1,
   "outputs": [
    {
     "name": "stdout",
     "output_type": "stream",
     "text": [
      "C:\\Users\\User\\Documents\\Isep\\data_analysis\\SHealth\n"
     ]
    }
   ],
   "source": [
    "%cd .."
   ],
   "metadata": {
    "collapsed": false,
    "pycharm": {
     "name": "#%%\n"
    }
   }
  },
  {
   "cell_type": "code",
   "execution_count": 2,
   "metadata": {
    "pycharm": {
     "name": "#%%\n"
    },
    "scrolled": true
   },
   "outputs": [
    {
     "name": "stdout",
     "output_type": "stream",
     "text": [
      "Dates columns are ready to be used\n",
      "Successful data preprocessing\n"
     ]
    }
   ],
   "source": [
    "from main import Shealth"
   ]
  },
  {
   "cell_type": "code",
   "execution_count": 3,
   "metadata": {
    "pycharm": {
     "name": "#%%\n"
    }
   },
   "outputs": [],
   "source": [
    "shealth = Shealth()"
   ]
  },
  {
   "cell_type": "code",
   "execution_count": 4,
   "metadata": {
    "pycharm": {
     "name": "#%%\n"
    }
   },
   "outputs": [
    {
     "data": {
      "text/plain": "                  day       date  weight    steps  walk_duration  \\\ndate                                                               \n2015-06-03  Wednesday 2015-06-03    68.0   6178.0             70   \n2015-06-04   Thursday 2015-06-04    68.8   8342.0             72   \n2015-06-05     Friday 2015-06-05    68.7  10048.0             91   \n2015-06-06   Saturday 2015-06-06    68.6   6593.0             55   \n2015-06-07     Sunday 2015-06-07    69.0   1417.0             12   \n...               ...        ...     ...      ...            ...   \n2016-12-30     Friday 2016-12-30    71.1   3114.0             30   \n2016-12-31   Saturday 2016-12-31    71.4   3498.0             32   \n2017-01-02     Monday 2017-01-02    70.9   2229.0             19   \n2017-01-10    Tuesday 2017-01-10    71.7   5429.0             49   \n2017-01-18  Wednesday 2017-01-18    71.8   7545.0             68   \n\n            sport_duration  spent_energy country_name     week  average_speed  \\\ndate                                                                            \n2015-06-03               6           354       France  2015-22       3.121516   \n2015-06-04              11           465       France  2015-22       3.859431   \n2015-06-05              40           722       France  2015-22       2.945368   \n2015-06-06               0           270       France  2015-22       4.603113   \n2015-06-07               0            71       France  2015-23       4.534400   \n...                    ...           ...          ...      ...            ...   \n2016-12-30               0           126       France  2016-52       3.985920   \n2016-12-31               0           153       France  2016-52       4.197600   \n2017-01-02               0            89       France  2017-01       4.504926   \n2017-01-10               0           242       France  2017-02       4.254563   \n2017-01-18               1           311       France  2017-03       4.198957   \n\n            delta_weight  delta_steps  \ndate                                   \n2015-06-03           0.0          0.0  \n2015-06-04           0.8       2164.0  \n2015-06-05          -0.1       1706.0  \n2015-06-06          -0.1      -3455.0  \n2015-06-07           0.4      -5176.0  \n...                  ...          ...  \n2016-12-30          -0.1      -1975.0  \n2016-12-31           0.3        384.0  \n2017-01-02          -0.5      -1269.0  \n2017-01-10           0.8       3200.0  \n2017-01-18           0.1       2116.0  \n\n[575 rows x 12 columns]",
      "text/html": "<div>\n<style scoped>\n    .dataframe tbody tr th:only-of-type {\n        vertical-align: middle;\n    }\n\n    .dataframe tbody tr th {\n        vertical-align: top;\n    }\n\n    .dataframe thead th {\n        text-align: right;\n    }\n</style>\n<table border=\"1\" class=\"dataframe\">\n  <thead>\n    <tr style=\"text-align: right;\">\n      <th></th>\n      <th>day</th>\n      <th>date</th>\n      <th>weight</th>\n      <th>steps</th>\n      <th>walk_duration</th>\n      <th>sport_duration</th>\n      <th>spent_energy</th>\n      <th>country_name</th>\n      <th>week</th>\n      <th>average_speed</th>\n      <th>delta_weight</th>\n      <th>delta_steps</th>\n    </tr>\n    <tr>\n      <th>date</th>\n      <th></th>\n      <th></th>\n      <th></th>\n      <th></th>\n      <th></th>\n      <th></th>\n      <th></th>\n      <th></th>\n      <th></th>\n      <th></th>\n      <th></th>\n      <th></th>\n    </tr>\n  </thead>\n  <tbody>\n    <tr>\n      <th>2015-06-03</th>\n      <td>Wednesday</td>\n      <td>2015-06-03</td>\n      <td>68.0</td>\n      <td>6178.0</td>\n      <td>70</td>\n      <td>6</td>\n      <td>354</td>\n      <td>France</td>\n      <td>2015-22</td>\n      <td>3.121516</td>\n      <td>0.0</td>\n      <td>0.0</td>\n    </tr>\n    <tr>\n      <th>2015-06-04</th>\n      <td>Thursday</td>\n      <td>2015-06-04</td>\n      <td>68.8</td>\n      <td>8342.0</td>\n      <td>72</td>\n      <td>11</td>\n      <td>465</td>\n      <td>France</td>\n      <td>2015-22</td>\n      <td>3.859431</td>\n      <td>0.8</td>\n      <td>2164.0</td>\n    </tr>\n    <tr>\n      <th>2015-06-05</th>\n      <td>Friday</td>\n      <td>2015-06-05</td>\n      <td>68.7</td>\n      <td>10048.0</td>\n      <td>91</td>\n      <td>40</td>\n      <td>722</td>\n      <td>France</td>\n      <td>2015-22</td>\n      <td>2.945368</td>\n      <td>-0.1</td>\n      <td>1706.0</td>\n    </tr>\n    <tr>\n      <th>2015-06-06</th>\n      <td>Saturday</td>\n      <td>2015-06-06</td>\n      <td>68.6</td>\n      <td>6593.0</td>\n      <td>55</td>\n      <td>0</td>\n      <td>270</td>\n      <td>France</td>\n      <td>2015-22</td>\n      <td>4.603113</td>\n      <td>-0.1</td>\n      <td>-3455.0</td>\n    </tr>\n    <tr>\n      <th>2015-06-07</th>\n      <td>Sunday</td>\n      <td>2015-06-07</td>\n      <td>69.0</td>\n      <td>1417.0</td>\n      <td>12</td>\n      <td>0</td>\n      <td>71</td>\n      <td>France</td>\n      <td>2015-23</td>\n      <td>4.534400</td>\n      <td>0.4</td>\n      <td>-5176.0</td>\n    </tr>\n    <tr>\n      <th>...</th>\n      <td>...</td>\n      <td>...</td>\n      <td>...</td>\n      <td>...</td>\n      <td>...</td>\n      <td>...</td>\n      <td>...</td>\n      <td>...</td>\n      <td>...</td>\n      <td>...</td>\n      <td>...</td>\n      <td>...</td>\n    </tr>\n    <tr>\n      <th>2016-12-30</th>\n      <td>Friday</td>\n      <td>2016-12-30</td>\n      <td>71.1</td>\n      <td>3114.0</td>\n      <td>30</td>\n      <td>0</td>\n      <td>126</td>\n      <td>France</td>\n      <td>2016-52</td>\n      <td>3.985920</td>\n      <td>-0.1</td>\n      <td>-1975.0</td>\n    </tr>\n    <tr>\n      <th>2016-12-31</th>\n      <td>Saturday</td>\n      <td>2016-12-31</td>\n      <td>71.4</td>\n      <td>3498.0</td>\n      <td>32</td>\n      <td>0</td>\n      <td>153</td>\n      <td>France</td>\n      <td>2016-52</td>\n      <td>4.197600</td>\n      <td>0.3</td>\n      <td>384.0</td>\n    </tr>\n    <tr>\n      <th>2017-01-02</th>\n      <td>Monday</td>\n      <td>2017-01-02</td>\n      <td>70.9</td>\n      <td>2229.0</td>\n      <td>19</td>\n      <td>0</td>\n      <td>89</td>\n      <td>France</td>\n      <td>2017-01</td>\n      <td>4.504926</td>\n      <td>-0.5</td>\n      <td>-1269.0</td>\n    </tr>\n    <tr>\n      <th>2017-01-10</th>\n      <td>Tuesday</td>\n      <td>2017-01-10</td>\n      <td>71.7</td>\n      <td>5429.0</td>\n      <td>49</td>\n      <td>0</td>\n      <td>242</td>\n      <td>France</td>\n      <td>2017-02</td>\n      <td>4.254563</td>\n      <td>0.8</td>\n      <td>3200.0</td>\n    </tr>\n    <tr>\n      <th>2017-01-18</th>\n      <td>Wednesday</td>\n      <td>2017-01-18</td>\n      <td>71.8</td>\n      <td>7545.0</td>\n      <td>68</td>\n      <td>1</td>\n      <td>311</td>\n      <td>France</td>\n      <td>2017-03</td>\n      <td>4.198957</td>\n      <td>0.1</td>\n      <td>2116.0</td>\n    </tr>\n  </tbody>\n</table>\n<p>575 rows × 12 columns</p>\n</div>"
     },
     "execution_count": 4,
     "metadata": {},
     "output_type": "execute_result"
    }
   ],
   "source": [
    "shealth.data_set"
   ]
  },
  {
   "cell_type": "code",
   "execution_count": 5,
   "metadata": {
    "pycharm": {
     "name": "#%%\n"
    }
   },
   "outputs": [
    {
     "data": {
      "text/plain": "           weight          steps  walk_duration  sport_duration  spent_energy  \\\ncount  575.000000     575.000000     575.000000      575.000000    575.000000   \nmean    70.557043    7984.365217      73.994783        4.695652    374.401739   \nstd      0.962384    6294.676728      46.419744       13.437281    235.327040   \nmin     68.000000       7.000000       1.000000        0.000000      4.000000   \n25%     69.800000    5149.500000      49.000000        0.000000    239.500000   \n50%     70.600000    7742.000000      70.000000        0.000000    353.000000   \n75%     71.300000   10304.500000      96.000000        1.000000    482.500000   \nmax     72.600000  107222.000000     271.000000      113.000000   1393.000000   \n\n       average_speed  delta_weight    delta_steps  \ncount     575.000000    575.000000     575.000000  \nmean        3.910416      0.006609       2.377391  \nstd         2.057390      0.356754    8237.131259  \nmin         0.029867     -1.300000  -96035.000000  \n25%         3.849389     -0.200000   -3355.500000  \n50%         4.088503      0.000000     -73.000000  \n75%         4.223654      0.200000    3599.000000  \nmax        39.212617      1.200000  100439.000000  ",
      "text/html": "<div>\n<style scoped>\n    .dataframe tbody tr th:only-of-type {\n        vertical-align: middle;\n    }\n\n    .dataframe tbody tr th {\n        vertical-align: top;\n    }\n\n    .dataframe thead th {\n        text-align: right;\n    }\n</style>\n<table border=\"1\" class=\"dataframe\">\n  <thead>\n    <tr style=\"text-align: right;\">\n      <th></th>\n      <th>weight</th>\n      <th>steps</th>\n      <th>walk_duration</th>\n      <th>sport_duration</th>\n      <th>spent_energy</th>\n      <th>average_speed</th>\n      <th>delta_weight</th>\n      <th>delta_steps</th>\n    </tr>\n  </thead>\n  <tbody>\n    <tr>\n      <th>count</th>\n      <td>575.000000</td>\n      <td>575.000000</td>\n      <td>575.000000</td>\n      <td>575.000000</td>\n      <td>575.000000</td>\n      <td>575.000000</td>\n      <td>575.000000</td>\n      <td>575.000000</td>\n    </tr>\n    <tr>\n      <th>mean</th>\n      <td>70.557043</td>\n      <td>7984.365217</td>\n      <td>73.994783</td>\n      <td>4.695652</td>\n      <td>374.401739</td>\n      <td>3.910416</td>\n      <td>0.006609</td>\n      <td>2.377391</td>\n    </tr>\n    <tr>\n      <th>std</th>\n      <td>0.962384</td>\n      <td>6294.676728</td>\n      <td>46.419744</td>\n      <td>13.437281</td>\n      <td>235.327040</td>\n      <td>2.057390</td>\n      <td>0.356754</td>\n      <td>8237.131259</td>\n    </tr>\n    <tr>\n      <th>min</th>\n      <td>68.000000</td>\n      <td>7.000000</td>\n      <td>1.000000</td>\n      <td>0.000000</td>\n      <td>4.000000</td>\n      <td>0.029867</td>\n      <td>-1.300000</td>\n      <td>-96035.000000</td>\n    </tr>\n    <tr>\n      <th>25%</th>\n      <td>69.800000</td>\n      <td>5149.500000</td>\n      <td>49.000000</td>\n      <td>0.000000</td>\n      <td>239.500000</td>\n      <td>3.849389</td>\n      <td>-0.200000</td>\n      <td>-3355.500000</td>\n    </tr>\n    <tr>\n      <th>50%</th>\n      <td>70.600000</td>\n      <td>7742.000000</td>\n      <td>70.000000</td>\n      <td>0.000000</td>\n      <td>353.000000</td>\n      <td>4.088503</td>\n      <td>0.000000</td>\n      <td>-73.000000</td>\n    </tr>\n    <tr>\n      <th>75%</th>\n      <td>71.300000</td>\n      <td>10304.500000</td>\n      <td>96.000000</td>\n      <td>1.000000</td>\n      <td>482.500000</td>\n      <td>4.223654</td>\n      <td>0.200000</td>\n      <td>3599.000000</td>\n    </tr>\n    <tr>\n      <th>max</th>\n      <td>72.600000</td>\n      <td>107222.000000</td>\n      <td>271.000000</td>\n      <td>113.000000</td>\n      <td>1393.000000</td>\n      <td>39.212617</td>\n      <td>1.200000</td>\n      <td>100439.000000</td>\n    </tr>\n  </tbody>\n</table>\n</div>"
     },
     "execution_count": 5,
     "metadata": {},
     "output_type": "execute_result"
    }
   ],
   "source": [
    "shealth.data_set_description"
   ]
  },
  {
   "cell_type": "code",
   "execution_count": 8,
   "outputs": [
    {
     "data": {
      "text/plain": "                steps_mean  measure_count  average_speed   data_min  \\\ncountry_name                                                          \nFrance         7532.259615            520       3.863704 2015-06-03   \nJapan         16185.266667             15       4.822258 2015-11-10   \nMorocco        5678.750000             12       3.352861 2016-05-21   \nSpain          7292.666667             12       2.455558 2015-08-02   \nIreland       10667.250000              8       3.879997 2015-07-11   \nGermany       41560.000000              3      15.691397 2015-11-28   \nSouth Korea   18187.333333              3       3.765454 2015-11-07   \nBelgium        7170.000000              1       4.302000 2015-10-18   \nQatar          4049.000000              1       3.615851 2015-11-16   \n\n               date_max    calories  sport_duration  min_weight  max_weight  \ncountry_name                                                                 \nFrance       2017-01-18  350.084615        3.636538        68.0        72.6  \nJapan        2016-10-24  848.733333        4.600000        69.6        71.5  \nMorocco      2016-12-23  372.750000       15.083333        70.5        71.9  \nSpain        2015-08-13  713.166667       46.583333        68.1        69.2  \nIreland      2015-07-18  445.000000        0.000000        69.8        69.8  \nGermany      2015-11-30  385.000000        0.000000        68.7        69.3  \nSouth Korea  2015-11-09  765.000000        0.000000        69.9        70.0  \nBelgium      2015-10-18  300.000000        0.000000        69.5        69.5  \nQatar        2015-11-16  165.000000        0.000000        70.0        70.0  ",
      "text/html": "<div>\n<style scoped>\n    .dataframe tbody tr th:only-of-type {\n        vertical-align: middle;\n    }\n\n    .dataframe tbody tr th {\n        vertical-align: top;\n    }\n\n    .dataframe thead th {\n        text-align: right;\n    }\n</style>\n<table border=\"1\" class=\"dataframe\">\n  <thead>\n    <tr style=\"text-align: right;\">\n      <th></th>\n      <th>steps_mean</th>\n      <th>measure_count</th>\n      <th>average_speed</th>\n      <th>data_min</th>\n      <th>date_max</th>\n      <th>calories</th>\n      <th>sport_duration</th>\n      <th>min_weight</th>\n      <th>max_weight</th>\n    </tr>\n    <tr>\n      <th>country_name</th>\n      <th></th>\n      <th></th>\n      <th></th>\n      <th></th>\n      <th></th>\n      <th></th>\n      <th></th>\n      <th></th>\n      <th></th>\n    </tr>\n  </thead>\n  <tbody>\n    <tr>\n      <th>France</th>\n      <td>7532.259615</td>\n      <td>520</td>\n      <td>3.863704</td>\n      <td>2015-06-03</td>\n      <td>2017-01-18</td>\n      <td>350.084615</td>\n      <td>3.636538</td>\n      <td>68.0</td>\n      <td>72.6</td>\n    </tr>\n    <tr>\n      <th>Japan</th>\n      <td>16185.266667</td>\n      <td>15</td>\n      <td>4.822258</td>\n      <td>2015-11-10</td>\n      <td>2016-10-24</td>\n      <td>848.733333</td>\n      <td>4.600000</td>\n      <td>69.6</td>\n      <td>71.5</td>\n    </tr>\n    <tr>\n      <th>Morocco</th>\n      <td>5678.750000</td>\n      <td>12</td>\n      <td>3.352861</td>\n      <td>2016-05-21</td>\n      <td>2016-12-23</td>\n      <td>372.750000</td>\n      <td>15.083333</td>\n      <td>70.5</td>\n      <td>71.9</td>\n    </tr>\n    <tr>\n      <th>Spain</th>\n      <td>7292.666667</td>\n      <td>12</td>\n      <td>2.455558</td>\n      <td>2015-08-02</td>\n      <td>2015-08-13</td>\n      <td>713.166667</td>\n      <td>46.583333</td>\n      <td>68.1</td>\n      <td>69.2</td>\n    </tr>\n    <tr>\n      <th>Ireland</th>\n      <td>10667.250000</td>\n      <td>8</td>\n      <td>3.879997</td>\n      <td>2015-07-11</td>\n      <td>2015-07-18</td>\n      <td>445.000000</td>\n      <td>0.000000</td>\n      <td>69.8</td>\n      <td>69.8</td>\n    </tr>\n    <tr>\n      <th>Germany</th>\n      <td>41560.000000</td>\n      <td>3</td>\n      <td>15.691397</td>\n      <td>2015-11-28</td>\n      <td>2015-11-30</td>\n      <td>385.000000</td>\n      <td>0.000000</td>\n      <td>68.7</td>\n      <td>69.3</td>\n    </tr>\n    <tr>\n      <th>South Korea</th>\n      <td>18187.333333</td>\n      <td>3</td>\n      <td>3.765454</td>\n      <td>2015-11-07</td>\n      <td>2015-11-09</td>\n      <td>765.000000</td>\n      <td>0.000000</td>\n      <td>69.9</td>\n      <td>70.0</td>\n    </tr>\n    <tr>\n      <th>Belgium</th>\n      <td>7170.000000</td>\n      <td>1</td>\n      <td>4.302000</td>\n      <td>2015-10-18</td>\n      <td>2015-10-18</td>\n      <td>300.000000</td>\n      <td>0.000000</td>\n      <td>69.5</td>\n      <td>69.5</td>\n    </tr>\n    <tr>\n      <th>Qatar</th>\n      <td>4049.000000</td>\n      <td>1</td>\n      <td>3.615851</td>\n      <td>2015-11-16</td>\n      <td>2015-11-16</td>\n      <td>165.000000</td>\n      <td>0.000000</td>\n      <td>70.0</td>\n      <td>70.0</td>\n    </tr>\n  </tbody>\n</table>\n</div>"
     },
     "execution_count": 8,
     "metadata": {},
     "output_type": "execute_result"
    }
   ],
   "source": [
    "shealth.group_by_country_name_count"
   ],
   "metadata": {
    "collapsed": false,
    "pycharm": {
     "name": "#%%\n"
    }
   }
  }
 ],
 "metadata": {
  "kernelspec": {
   "display_name": "Python 3 (ipykernel)",
   "language": "python",
   "name": "python3"
  },
  "language_info": {
   "codemirror_mode": {
    "name": "ipython",
    "version": 3
   },
   "file_extension": ".py",
   "mimetype": "text/x-python",
   "name": "python",
   "nbconvert_exporter": "python",
   "pygments_lexer": "ipython3",
   "version": "3.10.0"
  }
 },
 "nbformat": 4,
 "nbformat_minor": 1
}